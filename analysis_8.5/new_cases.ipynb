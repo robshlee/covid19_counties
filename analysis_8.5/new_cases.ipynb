{
 "metadata": {
  "language_info": {
   "codemirror_mode": {
    "name": "ipython",
    "version": 3
   },
   "file_extension": ".py",
   "mimetype": "text/x-python",
   "name": "python",
   "nbconvert_exporter": "python",
   "pygments_lexer": "ipython3",
   "version": "3.7.3-final"
  },
  "orig_nbformat": 2,
  "kernelspec": {
   "name": "python3",
   "display_name": "Python 3"
  }
 },
 "nbformat": 4,
 "nbformat_minor": 2,
 "cells": [
  {
   "cell_type": "markdown",
   "metadata": {},
   "source": [
    "# New Covid-19 Cases by State\n",
    "### Date: 8/5/19\n",
    "In this notebook I'll be depicting the new covid-19 cases by state in a dynamic bar chart. Dataset is provided from NY Times and sourced from  https://www.kaggle.com/fireballbyedimyrnmom/us-counties-covid-19-dataset"
   ]
  },
  {
   "cell_type": "code",
   "execution_count": 2,
   "metadata": {},
   "outputs": [],
   "source": [
    "import pandas as pd\n",
    "import datetime"
   ]
  },
  {
   "cell_type": "code",
   "execution_count": 3,
   "metadata": {},
   "outputs": [],
   "source": [
    "# import csv file\n",
    "data = pd.read_csv('./dataset/us-counties.csv')"
   ]
  },
  {
   "cell_type": "code",
   "execution_count": 4,
   "metadata": {},
   "outputs": [
    {
     "output_type": "execute_result",
     "data": {
      "text/plain": "         date     county       state     fips  cases  deaths\n0  2020-01-21  Snohomish  Washington  53061.0      1       0\n1  2020-01-22  Snohomish  Washington  53061.0      1       0\n2  2020-01-23  Snohomish  Washington  53061.0      1       0\n3  2020-01-24       Cook    Illinois  17031.0      1       0\n4  2020-01-24  Snohomish  Washington  53061.0      1       0",
      "text/html": "<div>\n<style scoped>\n    .dataframe tbody tr th:only-of-type {\n        vertical-align: middle;\n    }\n\n    .dataframe tbody tr th {\n        vertical-align: top;\n    }\n\n    .dataframe thead th {\n        text-align: right;\n    }\n</style>\n<table border=\"1\" class=\"dataframe\">\n  <thead>\n    <tr style=\"text-align: right;\">\n      <th></th>\n      <th>date</th>\n      <th>county</th>\n      <th>state</th>\n      <th>fips</th>\n      <th>cases</th>\n      <th>deaths</th>\n    </tr>\n  </thead>\n  <tbody>\n    <tr>\n      <th>0</th>\n      <td>2020-01-21</td>\n      <td>Snohomish</td>\n      <td>Washington</td>\n      <td>53061.0</td>\n      <td>1</td>\n      <td>0</td>\n    </tr>\n    <tr>\n      <th>1</th>\n      <td>2020-01-22</td>\n      <td>Snohomish</td>\n      <td>Washington</td>\n      <td>53061.0</td>\n      <td>1</td>\n      <td>0</td>\n    </tr>\n    <tr>\n      <th>2</th>\n      <td>2020-01-23</td>\n      <td>Snohomish</td>\n      <td>Washington</td>\n      <td>53061.0</td>\n      <td>1</td>\n      <td>0</td>\n    </tr>\n    <tr>\n      <th>3</th>\n      <td>2020-01-24</td>\n      <td>Cook</td>\n      <td>Illinois</td>\n      <td>17031.0</td>\n      <td>1</td>\n      <td>0</td>\n    </tr>\n    <tr>\n      <th>4</th>\n      <td>2020-01-24</td>\n      <td>Snohomish</td>\n      <td>Washington</td>\n      <td>53061.0</td>\n      <td>1</td>\n      <td>0</td>\n    </tr>\n  </tbody>\n</table>\n</div>"
     },
     "metadata": {},
     "execution_count": 4
    }
   ],
   "source": [
    "# sneak peak at data\n",
    "data.head()"
   ]
  },
  {
   "cell_type": "code",
   "execution_count": 18,
   "metadata": {
    "tags": []
   },
   "outputs": [
    {
     "output_type": "stream",
     "name": "stdout",
     "text": "Size of dataset: 402068 rows\n\nMin date: 2020-01-21\nMax date: 2020-08-04\n\n"
    }
   ],
   "source": [
    "# size of dataset\n",
    "print(f'Size of dataset: {data.shape[0]} rows\\n')\n",
    "\n",
    "# see which dates are available in the dataset\n",
    "min_date = data.date.min()\n",
    "max_date = data.date.max()\n",
    "print(f'Min date: {min_date}')\n",
    "print(f'Max date: {max_date}\\n')\n",
    "\n"
   ]
  },
  {
   "cell_type": "code",
   "execution_count": 102,
   "metadata": {
    "tags": []
   },
   "outputs": [],
   "source": [
    "# group data set by state and date\n",
    "states = data.groupby(['state','date']).sum()[['cases']]\n",
    "states.columns = ['cum_cases']"
   ]
  },
  {
   "cell_type": "code",
   "execution_count": 103,
   "metadata": {},
   "outputs": [
    {
     "output_type": "execute_result",
     "data": {
      "text/plain": "                    cum_cases\nstate   date                 \nAlabama 2020-03-13          6\n        2020-03-14         12\n        2020-03-15         23\n        2020-03-16         29\n        2020-03-17         39",
      "text/html": "<div>\n<style scoped>\n    .dataframe tbody tr th:only-of-type {\n        vertical-align: middle;\n    }\n\n    .dataframe tbody tr th {\n        vertical-align: top;\n    }\n\n    .dataframe thead th {\n        text-align: right;\n    }\n</style>\n<table border=\"1\" class=\"dataframe\">\n  <thead>\n    <tr style=\"text-align: right;\">\n      <th></th>\n      <th></th>\n      <th>cum_cases</th>\n    </tr>\n    <tr>\n      <th>state</th>\n      <th>date</th>\n      <th></th>\n    </tr>\n  </thead>\n  <tbody>\n    <tr>\n      <th rowspan=\"5\" valign=\"top\">Alabama</th>\n      <th>2020-03-13</th>\n      <td>6</td>\n    </tr>\n    <tr>\n      <th>2020-03-14</th>\n      <td>12</td>\n    </tr>\n    <tr>\n      <th>2020-03-15</th>\n      <td>23</td>\n    </tr>\n    <tr>\n      <th>2020-03-16</th>\n      <td>29</td>\n    </tr>\n    <tr>\n      <th>2020-03-17</th>\n      <td>39</td>\n    </tr>\n  </tbody>\n</table>\n</div>"
     },
     "metadata": {},
     "execution_count": 103
    }
   ],
   "source": [
    "states.head()"
   ]
  },
  {
   "cell_type": "code",
   "execution_count": 188,
   "metadata": {
    "tags": []
   },
   "outputs": [],
   "source": [
    "# create new dataframe with all dates in dataset\n",
    "dates = []\n",
    "\n",
    "start_date = datetime.datetime.strptime(min_date, '%Y-%m-%d')\n",
    "end_date = datetime.datetime.strptime(max_date, '%Y-%m-%d')\n",
    "\n",
    "num_days = int((end_date - start_date).days) + 1\n",
    "\n",
    "for _ in range(num_days):\n",
    "    if len(dates) == 0:\n",
    "        dates.append(start_date)\n",
    "    else:\n",
    "        date = dates[-1] + datetime.timedelta(days = 1)\n",
    "        dates.append(date)\n",
    "\n",
    "df = pd.DataFrame(index=dates)\n",
    "\n",
    "# for each state, add column with cumulative cases\n",
    "state_names = data.state.unique()\n",
    "\n",
    "states_df = states.reset_index()\n",
    "states_df['date'] = pd.to_datetime(states_df['date'], format='%Y-%m-%d')\n",
    "states_df = states_df.set_index('date')\n",
    "\n",
    "for date, row in states_df.iterrows():\n",
    "    if row['state'] not in df.columns:\n",
    "        df[row['state']] = 0\n",
    "\n",
    "    df.at[date, row['state']] = row.cum_cases\n",
    "\n",
    "# transpose dataframe \n",
    "df_transpose = df.T\n",
    "df_transpose.head()\n",
    "\n",
    "# rename columns as Month - Day - Year\n",
    "dates_str = [d.strftime('%b-%d-%Y') for d in dates]\n",
    "df_transpose.columns = dates_str"
   ]
  },
  {
   "cell_type": "code",
   "execution_count": 190,
   "metadata": {},
   "outputs": [],
   "source": [
    "# export to excel load to load to Flourish for racing bar chart\n",
    "df_transpose.to_excel('./dataset/output_data.xls')"
   ]
  }
 ]
}
